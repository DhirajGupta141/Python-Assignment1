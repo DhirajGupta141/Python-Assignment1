{
 "cells": [
  {
   "cell_type": "code",
   "execution_count": null,
   "metadata": {},
   "outputs": [],
   "source": [
    "1. Write a program which will find all such numbers which are divisible by 7 but are not a\n",
    "multiple of 5, between 2000 and 3200 (both included). The numbers obtained should be printed\n",
    "in a comma-separated sequence on a single line.\n",
    "\n",
    "for i in range(2000,3201):\n",
    "    if(i%7==0 and  i%5!=0):\n",
    "        print(i,\",\",end=\" \")\n",
    "\n",
    "-------------------------------------------------------------------------------------------------------------------\n",
    "2. Write a Python program to accept the user's first and last name and then getting them\n",
    "printed in the the reverse order with a space between first name and last name.\n",
    "\n",
    "\n",
    "Fname=input(\"Enter  Your first name: \")\n",
    "Lname=input(\"Enter  Your Last name: \")\n",
    "\n",
    "\n",
    "def reverse(Fname):\n",
    "    rev_str=\" \"\n",
    "    for i in Fname:\n",
    "        rev_str= i+rev_str\n",
    "    return rev_str\n",
    "\n",
    "print(reverse(Fname)+\" \"+ reverse(Lname))\n",
    "\n",
    "\n",
    "----------------------------------------------------------------------------------------------------------------\n",
    "3. Write a Python program to find the volume of a sphere with diameter 12 cm.\n",
    "Formula: V = 4 / 3 * π * r3\n",
    "\n",
    "\n",
    "volume=4/3*3.14*(6)**3\n",
    "\n",
    "print(\"Volume of the sphere whose diameter 12 is:\",volume)\n"
   ]
  }
 ],
 "metadata": {
  "kernelspec": {
   "display_name": "Python 3",
   "language": "python",
   "name": "python3"
  },
  "language_info": {
   "codemirror_mode": {
    "name": "ipython",
    "version": 3
   },
   "file_extension": ".py",
   "mimetype": "text/x-python",
   "name": "python",
   "nbconvert_exporter": "python",
   "pygments_lexer": "ipython3",
   "version": "3.7.6"
  }
 },
 "nbformat": 4,
 "nbformat_minor": 4
}
